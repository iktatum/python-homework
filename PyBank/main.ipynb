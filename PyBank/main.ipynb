{
 "cells": [
  {
   "cell_type": "code",
   "execution_count": 1,
   "metadata": {},
   "outputs": [],
   "source": [
    "#Import the path library and csv file library\n",
    "from pathlib import Path\n",
    "import csv"
   ]
  },
  {
   "cell_type": "code",
   "execution_count": 28,
   "metadata": {},
   "outputs": [],
   "source": [
    "# set the csv file path\n",
    "csvpath = Path(\"../Resources/budget_data.csv\")\n"
   ]
  },
  {
   "cell_type": "code",
   "execution_count": 20,
   "metadata": {},
   "outputs": [],
   "source": [
    "# Define the vaiarables. Need total months, total profits, average change, max profit increase and greatest profil decrease \n",
    "\n",
    "total_months = 0\n",
    "avg_change = 0\n",
    "total_profit = []\n",
    "greatest_profit_increase =[]\n",
    "greatest_profit_decrease = []\n",
    "line_num = 0 "
   ]
  },
  {
   "cell_type": "code",
   "execution_count": null,
   "metadata": {},
   "outputs": [],
   "source": [
    "with open (csvpath,'r') as csvfile:\n",
    "    print(type(csvfile))\n",
    "    csvreader=csv.reader(csvfile, delimeter = ',')\n",
    "    header = next(csvreader)\n",
    "    line_num+=1\n",
    "    for row in csvreader:\n",
    "        daily_profit  = int(row[1])\n",
    "        total_profit.append(daily_profit)"
   ]
  },
  {
   "cell_type": "code",
   "execution_count": null,
   "metadata": {},
   "outputs": [],
   "source": []
  }
 ],
 "metadata": {
  "kernelspec": {
   "display_name": "Python 3",
   "language": "python",
   "name": "python3"
  },
  "language_info": {
   "codemirror_mode": {
    "name": "ipython",
    "version": 3
   },
   "file_extension": ".py",
   "mimetype": "text/x-python",
   "name": "python",
   "nbconvert_exporter": "python",
   "pygments_lexer": "ipython3",
   "version": "3.7.7"
  }
 },
 "nbformat": 4,
 "nbformat_minor": 4
}
